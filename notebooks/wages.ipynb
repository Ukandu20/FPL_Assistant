{
 "cells": [
  {
   "cell_type": "code",
   "execution_count": 1,
   "id": "c4351b72",
   "metadata": {},
   "outputs": [
    {
     "data": {
      "text/html": [
       "<pre style=\"white-space:pre;overflow-x:auto;line-height:normal;font-family:Menlo,'DejaVu Sans Mono',consolas,'Courier New',monospace\"><span style=\"color: #7fbfbf; text-decoration-color: #7fbfbf\">[07/12/25 14:40:41] </span><span style=\"color: #000080; text-decoration-color: #000080\">INFO    </span> No custom team name replacements found. You can configure these in       <a href=\"file://c:\\Users\\oukan\\AppData\\Local\\Programs\\Python\\Python312\\Lib\\site-packages\\soccerdata\\_config.py\" target=\"_blank\"><span style=\"color: #7f7f7f; text-decoration-color: #7f7f7f\">_config.py</span></a><span style=\"color: #7f7f7f; text-decoration-color: #7f7f7f\">:</span><a href=\"file://c:\\Users\\oukan\\AppData\\Local\\Programs\\Python\\Python312\\Lib\\site-packages\\soccerdata\\_config.py#91\" target=\"_blank\"><span style=\"color: #7f7f7f; text-decoration-color: #7f7f7f\">91</span></a>\n",
       "<span style=\"color: #7fbfbf; text-decoration-color: #7fbfbf\">                    </span>         C:\\Users\\oukan\\soccerdata\\config\\teamname_replacements.json.             <span style=\"color: #7f7f7f; text-decoration-color: #7f7f7f\">             </span>\n",
       "</pre>\n"
      ],
      "text/plain": [
       "\u001b[2;36m[07/12/25 14:40:41]\u001b[0m\u001b[2;36m \u001b[0m\u001b[34mINFO    \u001b[0m No custom team name replacements found. You can configure these in       \u001b]8;id=408198;file://c:\\Users\\oukan\\AppData\\Local\\Programs\\Python\\Python312\\Lib\\site-packages\\soccerdata\\_config.py\u001b\\\u001b[2m_config.py\u001b[0m\u001b]8;;\u001b\\\u001b[2m:\u001b[0m\u001b]8;id=192233;file://c:\\Users\\oukan\\AppData\\Local\\Programs\\Python\\Python312\\Lib\\site-packages\\soccerdata\\_config.py#91\u001b\\\u001b[2m91\u001b[0m\u001b]8;;\u001b\\\n",
       "\u001b[2;36m                    \u001b[0m         C:\\Users\\oukan\\soccerdata\\config\\teamname_replacements.json.             \u001b[2m             \u001b[0m\n"
      ]
     },
     "metadata": {},
     "output_type": "display_data"
    },
    {
     "data": {
      "text/html": [
       "<pre style=\"white-space:pre;overflow-x:auto;line-height:normal;font-family:Menlo,'DejaVu Sans Mono',consolas,'Courier New',monospace\"><span style=\"color: #7fbfbf; text-decoration-color: #7fbfbf\">                    </span><span style=\"color: #000080; text-decoration-color: #000080\">INFO    </span> No custom league dict found. You can configure additional leagues in    <a href=\"file://c:\\Users\\oukan\\AppData\\Local\\Programs\\Python\\Python312\\Lib\\site-packages\\soccerdata\\_config.py\" target=\"_blank\"><span style=\"color: #7f7f7f; text-decoration-color: #7f7f7f\">_config.py</span></a><span style=\"color: #7f7f7f; text-decoration-color: #7f7f7f\">:</span><a href=\"file://c:\\Users\\oukan\\AppData\\Local\\Programs\\Python\\Python312\\Lib\\site-packages\\soccerdata\\_config.py#197\" target=\"_blank\"><span style=\"color: #7f7f7f; text-decoration-color: #7f7f7f\">197</span></a>\n",
       "<span style=\"color: #7fbfbf; text-decoration-color: #7fbfbf\">                    </span>         C:\\Users\\oukan\\soccerdata\\config\\league_dict.json.                      <span style=\"color: #7f7f7f; text-decoration-color: #7f7f7f\">              </span>\n",
       "</pre>\n"
      ],
      "text/plain": [
       "\u001b[2;36m                   \u001b[0m\u001b[2;36m \u001b[0m\u001b[34mINFO    \u001b[0m No custom league dict found. You can configure additional leagues in    \u001b]8;id=372968;file://c:\\Users\\oukan\\AppData\\Local\\Programs\\Python\\Python312\\Lib\\site-packages\\soccerdata\\_config.py\u001b\\\u001b[2m_config.py\u001b[0m\u001b]8;;\u001b\\\u001b[2m:\u001b[0m\u001b]8;id=686336;file://c:\\Users\\oukan\\AppData\\Local\\Programs\\Python\\Python312\\Lib\\site-packages\\soccerdata\\_config.py#197\u001b\\\u001b[2m197\u001b[0m\u001b]8;;\u001b\\\n",
       "\u001b[2;36m                    \u001b[0m         C:\\Users\\oukan\\soccerdata\\config\\league_dict.json.                      \u001b[2m              \u001b[0m\n"
      ]
     },
     "metadata": {},
     "output_type": "display_data"
    },
    {
     "data": {
      "text/html": [
       "<pre style=\"white-space:pre;overflow-x:auto;line-height:normal;font-family:Menlo,'DejaVu Sans Mono',consolas,'Courier New',monospace\"><span style=\"color: #7fbfbf; text-decoration-color: #7fbfbf\">                    </span><span style=\"color: #000080; text-decoration-color: #000080\">INFO    </span> Saving cached data to C:\\Users\\oukan\\soccerdata\\data\\WhoScored          <a href=\"file://c:\\Users\\oukan\\AppData\\Local\\Programs\\Python\\Python312\\Lib\\site-packages\\soccerdata\\_common.py\" target=\"_blank\"><span style=\"color: #7f7f7f; text-decoration-color: #7f7f7f\">_common.py</span></a><span style=\"color: #7f7f7f; text-decoration-color: #7f7f7f\">:</span><a href=\"file://c:\\Users\\oukan\\AppData\\Local\\Programs\\Python\\Python312\\Lib\\site-packages\\soccerdata\\_common.py#263\" target=\"_blank\"><span style=\"color: #7f7f7f; text-decoration-color: #7f7f7f\">263</span></a>\n",
       "</pre>\n"
      ],
      "text/plain": [
       "\u001b[2;36m                   \u001b[0m\u001b[2;36m \u001b[0m\u001b[34mINFO    \u001b[0m Saving cached data to C:\\Users\\oukan\\soccerdata\\data\\WhoScored          \u001b]8;id=745238;file://c:\\Users\\oukan\\AppData\\Local\\Programs\\Python\\Python312\\Lib\\site-packages\\soccerdata\\_common.py\u001b\\\u001b[2m_common.py\u001b[0m\u001b]8;;\u001b\\\u001b[2m:\u001b[0m\u001b]8;id=485383;file://c:\\Users\\oukan\\AppData\\Local\\Programs\\Python\\Python312\\Lib\\site-packages\\soccerdata\\_common.py#263\u001b\\\u001b[2m263\u001b[0m\u001b]8;;\u001b\\\n"
      ]
     },
     "metadata": {},
     "output_type": "display_data"
    },
    {
     "data": {
      "text/html": [
       "<pre style=\"white-space:pre;overflow-x:auto;line-height:normal;font-family:Menlo,'DejaVu Sans Mono',consolas,'Courier New',monospace\"><span style=\"color: #7fbfbf; text-decoration-color: #7fbfbf\">[07/12/25 14:40:50] </span><span style=\"color: #000080; text-decoration-color: #000080\">INFO    </span> patching driver executable                                              <a href=\"file://c:\\Users\\oukan\\AppData\\Local\\Programs\\Python\\Python312\\Lib\\site-packages\\undetected_chromedriver\\patcher.py\" target=\"_blank\"><span style=\"color: #7f7f7f; text-decoration-color: #7f7f7f\">patcher.py</span></a><span style=\"color: #7f7f7f; text-decoration-color: #7f7f7f\">:</span><a href=\"file://c:\\Users\\oukan\\AppData\\Local\\Programs\\Python\\Python312\\Lib\\site-packages\\undetected_chromedriver\\patcher.py#346\" target=\"_blank\"><span style=\"color: #7f7f7f; text-decoration-color: #7f7f7f\">346</span></a>\n",
       "<span style=\"color: #7fbfbf; text-decoration-color: #7fbfbf\">                    </span>         C:\\Users\\oukan\\appdata\\roaming\\undetected_chromedriver\\undetected_chrom <span style=\"color: #7f7f7f; text-decoration-color: #7f7f7f\">              </span>\n",
       "<span style=\"color: #7fbfbf; text-decoration-color: #7fbfbf\">                    </span>         edriver.exe                                                             <span style=\"color: #7f7f7f; text-decoration-color: #7f7f7f\">              </span>\n",
       "</pre>\n"
      ],
      "text/plain": [
       "\u001b[2;36m[07/12/25 14:40:50]\u001b[0m\u001b[2;36m \u001b[0m\u001b[34mINFO    \u001b[0m patching driver executable                                              \u001b]8;id=272473;file://c:\\Users\\oukan\\AppData\\Local\\Programs\\Python\\Python312\\Lib\\site-packages\\undetected_chromedriver\\patcher.py\u001b\\\u001b[2mpatcher.py\u001b[0m\u001b]8;;\u001b\\\u001b[2m:\u001b[0m\u001b]8;id=43709;file://c:\\Users\\oukan\\AppData\\Local\\Programs\\Python\\Python312\\Lib\\site-packages\\undetected_chromedriver\\patcher.py#346\u001b\\\u001b[2m346\u001b[0m\u001b]8;;\u001b\\\n",
       "\u001b[2;36m                    \u001b[0m         C:\\Users\\oukan\\appdata\\roaming\\undetected_chromedriver\\undetected_chrom \u001b[2m              \u001b[0m\n",
       "\u001b[2;36m                    \u001b[0m         edriver.exe                                                             \u001b[2m              \u001b[0m\n"
      ]
     },
     "metadata": {},
     "output_type": "display_data"
    },
    {
     "name": "stdout",
     "output_type": "stream",
     "text": [
      "Provides pd.DataFrames from data available at http://whoscored.com.\n",
      "\n",
      "    Data will be downloaded as necessary and cached locally in\n",
      "    ``~/soccerdata/data/WhoScored``.\n",
      "\n",
      "    Parameters\n",
      "    ----------\n",
      "    leagues : string or iterable, optional\n",
      "        IDs of Leagues to include.\n",
      "    seasons : string, int or list, optional\n",
      "        Seasons to include. Supports multiple formats.\n",
      "        Examples: '16-17'; 2016; '2016-17'; [14, 15, 16]\n",
      "    proxy : 'tor' or dict or list(dict) or callable, optional\n",
      "        Use a proxy to hide your IP address. Valid options are:\n",
      "            - \"tor\": Uses the Tor network. Tor should be running in\n",
      "              the background on port 9050.\n",
      "            - dict: A dictionary with the proxy to use. The dict should be\n",
      "              a mapping of supported protocols to proxy addresses. For example::\n",
      "\n",
      "                  {\n",
      "                      'http': 'http://10.10.1.10:3128',\n",
      "                      'https': 'http://10.10.1.10:1080',\n",
      "                  }\n",
      "\n",
      "            - list(dict): A list of proxies to choose from. A different proxy will\n",
      "              be selected from this list after failed requests, allowing rotating\n",
      "              proxies.\n",
      "            - callable: A function that returns a valid proxy. This function will\n",
      "              be called after failed requests, allowing rotating proxies.\n",
      "    no_cache : bool\n",
      "        If True, will not use cached data.\n",
      "    no_store : bool\n",
      "        If True, will not store downloaded data.\n",
      "    data_dir : Path\n",
      "        Path to directory where data will be cached.\n",
      "    path_to_browser : Path, optional\n",
      "        Path to the Chrome executable.\n",
      "    headless : bool, default: True\n",
      "        If True, will run Chrome in headless mode. Setting this to False might\n",
      "        help to avoid getting blocked. Only supported for Selenium <4.13.\n",
      "    \n"
     ]
    }
   ],
   "source": [
    "import soccerdata as sd\n",
    "\n",
    "\n",
    "ws = sd.WhoScored(leagues=\"ENG-Premier League\", seasons=\"2021-2022\")\n",
    "print(ws.__doc__)\n"
   ]
  },
  {
   "cell_type": "code",
   "execution_count": 2,
   "id": "3ddcd619",
   "metadata": {},
   "outputs": [
    {
     "ename": "ValueError",
     "evalue": "Unrecognized season code: 'None'",
     "output_type": "error",
     "traceback": [
      "\u001b[1;31m---------------------------------------------------------------------------\u001b[0m",
      "\u001b[1;31mValueError\u001b[0m                                Traceback (most recent call last)",
      "Cell \u001b[1;32mIn[2], line 1\u001b[0m\n\u001b[1;32m----> 1\u001b[0m epl_schedule \u001b[38;5;241m=\u001b[39m \u001b[43mws\u001b[49m\u001b[38;5;241;43m.\u001b[39;49m\u001b[43mread_schedule\u001b[49m\u001b[43m(\u001b[49m\u001b[43m)\u001b[49m\n\u001b[0;32m      2\u001b[0m epl_schedule\u001b[38;5;241m.\u001b[39mhead()\n",
      "File \u001b[1;32mc:\\Users\\oukan\\AppData\\Local\\Programs\\Python\\Python312\\Lib\\site-packages\\soccerdata\\whoscored.py:347\u001b[0m, in \u001b[0;36mWhoScored.read_schedule\u001b[1;34m(self, force_cache)\u001b[0m\n\u001b[0;32m    334\u001b[0m \u001b[38;5;28;01mdef\u001b[39;00m\u001b[38;5;250m \u001b[39m\u001b[38;5;21mread_schedule\u001b[39m(\u001b[38;5;28mself\u001b[39m, force_cache: \u001b[38;5;28mbool\u001b[39m \u001b[38;5;241m=\u001b[39m \u001b[38;5;28;01mFalse\u001b[39;00m) \u001b[38;5;241m-\u001b[39m\u001b[38;5;241m>\u001b[39m pd\u001b[38;5;241m.\u001b[39mDataFrame:\n\u001b[0;32m    335\u001b[0m \u001b[38;5;250m    \u001b[39m\u001b[38;5;124;03m\"\"\"Retrieve the game schedule for the selected leagues and seasons.\u001b[39;00m\n\u001b[0;32m    336\u001b[0m \n\u001b[0;32m    337\u001b[0m \u001b[38;5;124;03m    Parameters\u001b[39;00m\n\u001b[1;32m   (...)\u001b[0m\n\u001b[0;32m    345\u001b[0m \u001b[38;5;124;03m    pd.DataFrame\u001b[39;00m\n\u001b[0;32m    346\u001b[0m \u001b[38;5;124;03m    \"\"\"\u001b[39;00m\n\u001b[1;32m--> 347\u001b[0m     df_season_stages \u001b[38;5;241m=\u001b[39m \u001b[38;5;28;43mself\u001b[39;49m\u001b[38;5;241;43m.\u001b[39;49m\u001b[43mread_season_stages\u001b[49m\u001b[43m(\u001b[49m\u001b[43mforce_cache\u001b[49m\u001b[38;5;241;43m=\u001b[39;49m\u001b[43mforce_cache\u001b[49m\u001b[43m)\u001b[49m\n\u001b[0;32m    348\u001b[0m     filemask_schedule \u001b[38;5;241m=\u001b[39m \u001b[38;5;124m\"\u001b[39m\u001b[38;5;124mmatches/\u001b[39m\u001b[38;5;132;01m{}\u001b[39;00m\u001b[38;5;124m_\u001b[39m\u001b[38;5;132;01m{}\u001b[39;00m\u001b[38;5;124m_\u001b[39m\u001b[38;5;132;01m{}\u001b[39;00m\u001b[38;5;124m_\u001b[39m\u001b[38;5;132;01m{}\u001b[39;00m\u001b[38;5;124m.json\u001b[39m\u001b[38;5;124m\"\u001b[39m\n\u001b[0;32m    350\u001b[0m     all_schedules \u001b[38;5;241m=\u001b[39m []\n",
      "File \u001b[1;32mc:\\Users\\oukan\\AppData\\Local\\Programs\\Python\\Python312\\Lib\\site-packages\\soccerdata\\whoscored.py:277\u001b[0m, in \u001b[0;36mWhoScored.read_season_stages\u001b[1;34m(self, force_cache)\u001b[0m\n\u001b[0;32m    264\u001b[0m \u001b[38;5;28;01mdef\u001b[39;00m\u001b[38;5;250m \u001b[39m\u001b[38;5;21mread_season_stages\u001b[39m(\u001b[38;5;28mself\u001b[39m, force_cache: \u001b[38;5;28mbool\u001b[39m \u001b[38;5;241m=\u001b[39m \u001b[38;5;28;01mFalse\u001b[39;00m) \u001b[38;5;241m-\u001b[39m\u001b[38;5;241m>\u001b[39m pd\u001b[38;5;241m.\u001b[39mDataFrame:\n\u001b[0;32m    265\u001b[0m \u001b[38;5;250m    \u001b[39m\u001b[38;5;124;03m\"\"\"Retrieve the season stages for the selected leagues.\u001b[39;00m\n\u001b[0;32m    266\u001b[0m \n\u001b[0;32m    267\u001b[0m \u001b[38;5;124;03m    Parameters\u001b[39;00m\n\u001b[1;32m   (...)\u001b[0m\n\u001b[0;32m    275\u001b[0m \u001b[38;5;124;03m    pd.DataFrame\u001b[39;00m\n\u001b[0;32m    276\u001b[0m \u001b[38;5;124;03m    \"\"\"\u001b[39;00m\n\u001b[1;32m--> 277\u001b[0m     df_seasons \u001b[38;5;241m=\u001b[39m \u001b[38;5;28;43mself\u001b[39;49m\u001b[38;5;241;43m.\u001b[39;49m\u001b[43mread_seasons\u001b[49m\u001b[43m(\u001b[49m\u001b[43m)\u001b[49m\n\u001b[0;32m    278\u001b[0m     filemask \u001b[38;5;241m=\u001b[39m \u001b[38;5;124m\"\u001b[39m\u001b[38;5;124mseasons/\u001b[39m\u001b[38;5;132;01m{}\u001b[39;00m\u001b[38;5;124m_\u001b[39m\u001b[38;5;132;01m{}\u001b[39;00m\u001b[38;5;124m.html\u001b[39m\u001b[38;5;124m\"\u001b[39m\n\u001b[0;32m    280\u001b[0m     season_stages \u001b[38;5;241m=\u001b[39m []\n",
      "File \u001b[1;32mc:\\Users\\oukan\\AppData\\Local\\Programs\\Python\\Python312\\Lib\\site-packages\\soccerdata\\whoscored.py:250\u001b[0m, in \u001b[0;36mWhoScored.read_seasons\u001b[1;34m(self)\u001b[0m\n\u001b[0;32m    245\u001b[0m         season_url \u001b[38;5;241m=\u001b[39m node\u001b[38;5;241m.\u001b[39mget(\u001b[38;5;124m\"\u001b[39m\u001b[38;5;124mvalue\u001b[39m\u001b[38;5;124m\"\u001b[39m)\n\u001b[0;32m    246\u001b[0m         season_id \u001b[38;5;241m=\u001b[39m _parse_url(season_url)[\u001b[38;5;124m\"\u001b[39m\u001b[38;5;124mseason_id\u001b[39m\u001b[38;5;124m\"\u001b[39m]\n\u001b[0;32m    247\u001b[0m         seasons\u001b[38;5;241m.\u001b[39mappend(\n\u001b[0;32m    248\u001b[0m             {\n\u001b[0;32m    249\u001b[0m                 \u001b[38;5;124m\"\u001b[39m\u001b[38;5;124mleague\u001b[39m\u001b[38;5;124m\"\u001b[39m: lkey,\n\u001b[1;32m--> 250\u001b[0m                 \u001b[38;5;124m\"\u001b[39m\u001b[38;5;124mseason\u001b[39m\u001b[38;5;124m\"\u001b[39m: \u001b[38;5;28;43mself\u001b[39;49m\u001b[38;5;241;43m.\u001b[39;49m\u001b[43m_season_code\u001b[49m\u001b[38;5;241;43m.\u001b[39;49m\u001b[43mparse\u001b[49m\u001b[43m(\u001b[49m\u001b[43mnode\u001b[49m\u001b[38;5;241;43m.\u001b[39;49m\u001b[43mtext\u001b[49m\u001b[43m)\u001b[49m,\n\u001b[0;32m    251\u001b[0m                 \u001b[38;5;124m\"\u001b[39m\u001b[38;5;124mregion_id\u001b[39m\u001b[38;5;124m\"\u001b[39m: league\u001b[38;5;241m.\u001b[39mregion_id,\n\u001b[0;32m    252\u001b[0m                 \u001b[38;5;124m\"\u001b[39m\u001b[38;5;124mleague_id\u001b[39m\u001b[38;5;124m\"\u001b[39m: league\u001b[38;5;241m.\u001b[39mleague_id,\n\u001b[0;32m    253\u001b[0m                 \u001b[38;5;124m\"\u001b[39m\u001b[38;5;124mseason_id\u001b[39m\u001b[38;5;124m\"\u001b[39m: season_id,\n\u001b[0;32m    254\u001b[0m             }\n\u001b[0;32m    255\u001b[0m         )\n\u001b[0;32m    257\u001b[0m \u001b[38;5;28;01mreturn\u001b[39;00m (\n\u001b[0;32m    258\u001b[0m     pd\u001b[38;5;241m.\u001b[39mDataFrame(seasons)\n\u001b[0;32m    259\u001b[0m     \u001b[38;5;241m.\u001b[39mset_index([\u001b[38;5;124m\"\u001b[39m\u001b[38;5;124mleague\u001b[39m\u001b[38;5;124m\"\u001b[39m, \u001b[38;5;124m\"\u001b[39m\u001b[38;5;124mseason\u001b[39m\u001b[38;5;124m\"\u001b[39m])\n\u001b[0;32m    260\u001b[0m     \u001b[38;5;241m.\u001b[39msort_index()\n\u001b[0;32m    261\u001b[0m     \u001b[38;5;241m.\u001b[39mloc[itertools\u001b[38;5;241m.\u001b[39mproduct(\u001b[38;5;28mself\u001b[39m\u001b[38;5;241m.\u001b[39mleagues, \u001b[38;5;28mself\u001b[39m\u001b[38;5;241m.\u001b[39mseasons)]\n\u001b[0;32m    262\u001b[0m )\n",
      "File \u001b[1;32mc:\\Users\\oukan\\AppData\\Local\\Programs\\Python\\Python312\\Lib\\site-packages\\soccerdata\\_common.py:194\u001b[0m, in \u001b[0;36mSeasonCode.parse\u001b[1;34m(self, season)\u001b[0m\n\u001b[0;32m    191\u001b[0m     \u001b[38;5;28;01mif\u001b[39;00m pattern\u001b[38;5;241m.\u001b[39mmatch(season):\n\u001b[0;32m    192\u001b[0m         \u001b[38;5;28;01mreturn\u001b[39;00m action(season)\n\u001b[1;32m--> 194\u001b[0m \u001b[38;5;28;01mraise\u001b[39;00m \u001b[38;5;167;01mValueError\u001b[39;00m(\u001b[38;5;124mf\u001b[39m\u001b[38;5;124m\"\u001b[39m\u001b[38;5;124mUnrecognized season code: \u001b[39m\u001b[38;5;124m'\u001b[39m\u001b[38;5;132;01m{\u001b[39;00mseason\u001b[38;5;132;01m}\u001b[39;00m\u001b[38;5;124m'\u001b[39m\u001b[38;5;124m\"\u001b[39m)\n",
      "\u001b[1;31mValueError\u001b[0m: Unrecognized season code: 'None'"
     ]
    }
   ],
   "source": [
    "epl_schedule = ws.read_schedule()\n",
    "epl_schedule.head()"
   ]
  }
 ],
 "metadata": {
  "kernelspec": {
   "display_name": "Python 3",
   "language": "python",
   "name": "python3"
  },
  "language_info": {
   "codemirror_mode": {
    "name": "ipython",
    "version": 3
   },
   "file_extension": ".py",
   "mimetype": "text/x-python",
   "name": "python",
   "nbconvert_exporter": "python",
   "pygments_lexer": "ipython3",
   "version": "3.12.3"
  }
 },
 "nbformat": 4,
 "nbformat_minor": 5
}
