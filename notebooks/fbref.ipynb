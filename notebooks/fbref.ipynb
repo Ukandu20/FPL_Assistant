{
 "cells": [
  {
   "cell_type": "code",
   "execution_count": 6,
   "id": "bc614259",
   "metadata": {},
   "outputs": [
    {
     "name": "stdout",
     "output_type": "stream",
     "text": [
      "   team  is_promoted\n",
      "0   ARS            0\n",
      "1   AVL            0\n",
      "4   BHA            0\n",
      "2   BOU            0\n",
      "3   BRE            0\n",
      "5   BUR            1\n",
      "6   CHE            0\n",
      "7   CRY            0\n",
      "8   EVE            0\n",
      "9   FUL            0\n",
      "10  LIV            0\n",
      "11  LUT            1\n",
      "12  MCI            0\n",
      "13  MUN            0\n",
      "14  NEW            0\n",
      "15  NFO            0\n",
      "16  SHU            1\n",
      "17  TOT            0\n",
      "18  WHU            0\n",
      "19  WOL            0\n"
     ]
    }
   ],
   "source": [
    "import pandas as pd\n",
    "df = pd.read_csv('../data/processed/fbref/ENG-Premier League/2023-2024/team_season/defense.csv')\n",
    "print(df[['team','is_promoted']].drop_duplicates().sort_values('team').head(20))\n"
   ]
  }
 ],
 "metadata": {
  "kernelspec": {
   "display_name": "Python 3",
   "language": "python",
   "name": "python3"
  },
  "language_info": {
   "codemirror_mode": {
    "name": "ipython",
    "version": 3
   },
   "file_extension": ".py",
   "mimetype": "text/x-python",
   "name": "python",
   "nbconvert_exporter": "python",
   "pygments_lexer": "ipython3",
   "version": "3.12.3"
  }
 },
 "nbformat": 4,
 "nbformat_minor": 5
}
