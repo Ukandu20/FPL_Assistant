{
 "cells": [
  {
   "cell_type": "code",
   "execution_count": null,
   "id": "f4e7a496",
   "metadata": {},
   "outputs": [
    {
     "name": "stdout",
     "output_type": "stream",
     "text": [
      "FBref supports:\n",
      "['Big 5 European Leagues Combined',\n",
      " 'INT-European Championship',\n",
      " \"INT-Women's World Cup\",\n",
      " 'INT-World Cup']\n"
     ]
    }
   ],
   "source": [
    "import soccerdata as sd\n",
    "from pprint import pprint\n",
    "\n",
    "class sd.FBref(leagues=None, seasons=None, proxy=None, no_cache=False, no_store=False, data_dir=PosixPath('/home/docs/soccerdata/data/FBref'))\n",
    "# FBref ------------------------------------------------------------\n",
    "print(\"FBref supports:\")\n",
    "pprint(FBref.available_leagues())          # list[str]"
   ]
  },
  {
   "cell_type": "code",
   "execution_count": null,
   "id": "384d55f3",
   "metadata": {},
   "outputs": [],
   "source": [
    "['ARG-Primera División',\n",
    " 'AUS-A-League',\n",
    " 'AUT-Bundesliga',\n",
    " 'BEL-Belgian Pro League',\n",
    " 'BRA-Serie A',\n",
    " 'DEN-Superliga',\n",
    " 'ENG-Premier League',\n",
    " 'ENG-Championship',\n",
    " 'ESP-La Liga',\n",
    " 'FRA-Ligue 1',\n",
    " 'GER-Bundesliga',\n",
    " 'ITA-Serie A',\n",
    " 'NED-Eredivisie',\n",
    " 'POR-Primeira Liga',\n",
    " 'SCO-Premiership',\n",
    " ...]\n"
   ]
  },
  {
   "cell_type": "code",
   "execution_count": null,
   "id": "bc614259",
   "metadata": {},
   "outputs": [],
   "source": []
  }
 ],
 "metadata": {
  "kernelspec": {
   "display_name": "Python 3",
   "language": "python",
   "name": "python3"
  },
  "language_info": {
   "codemirror_mode": {
    "name": "ipython",
    "version": 3
   },
   "file_extension": ".py",
   "mimetype": "text/x-python",
   "name": "python",
   "nbconvert_exporter": "python",
   "pygments_lexer": "ipython3",
   "version": "3.12.3"
  }
 },
 "nbformat": 4,
 "nbformat_minor": 5
}
