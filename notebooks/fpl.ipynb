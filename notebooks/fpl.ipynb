{
 "cells": [
  {
   "cell_type": "code",
   "execution_count": 4,
   "id": "d8e94066",
   "metadata": {},
   "outputs": [],
   "source": [
    "import requests\n",
    "import pandas as pd\n",
    "from pathlib import Path\n",
    "\n",
    "\n",
    "import requests, json, time\n",
    "import pandas as pd\n",
    "from pathlib import Path\n",
    "\n",
    "\n",
    "ENTRY_ID = 1451223\n",
    "SEASON   = 2024              # 2024-25\n",
    "BASE     = \"https://fantasy.premierleague.com/api\"\n",
    "OUTDIR   = Path(\"../data/external/2024-25\")\n",
    "OUTDIR.mkdir(parents=True, exist_ok=True)       # reuse TCP & cookies"
   ]
  },
  {
   "cell_type": "code",
   "execution_count": 5,
   "id": "cddeffa8",
   "metadata": {},
   "outputs": [],
   "source": [
    "def get(url, retry=5):\n",
    "    for _ in range(retry):\n",
    "        try:\n",
    "            r = requests.get(url, timeout=10)\n",
    "            if r.status_code == 200:\n",
    "                return r.json()\n",
    "        except requests.RequestException:\n",
    "            pass\n",
    "        time.sleep(3)\n",
    "    raise RuntimeError(f\"GET failed: {url}\")"
   ]
  },
  {
   "cell_type": "code",
   "execution_count": 6,
   "id": "f4d9d2f9",
   "metadata": {},
   "outputs": [
    {
     "name": "stdout",
     "output_type": "stream",
     "text": [
      "   id      web_name first_name            second_name  team  element_type  \\\n",
      "0   1          Raya      David            Raya Martín     1             1   \n",
      "1   2  Arrizabalaga       Kepa  Arrizabalaga Revuelta     1             1   \n",
      "2   3          Hein       Karl                   Hein     1             1   \n",
      "3   4       Setford      Tommy                Setford     1             1   \n",
      "4   5       Gabriel    Gabriel   dos Santos Magalhães     1             2   \n",
      "\n",
      "   now_cost  price_m  \n",
      "0        55      5.5  \n",
      "1        45      4.5  \n",
      "2        40      4.0  \n",
      "3        40      4.0  \n",
      "4        60      6.0  \n"
     ]
    }
   ],
   "source": [
    "import requests, pandas as pd\n",
    "\n",
    "data   = requests.get(\"https://fantasy.premierleague.com/api/bootstrap-static/\").json()\n",
    "prices = (\n",
    "    pd.json_normalize(data[\"elements\"])          # every registered player\n",
    "      .loc[:, [\"id\", \"web_name\", \"first_name\", \"second_name\", \"team\", \"element_type\", \"now_cost\"]]\n",
    "      .assign(price_m = lambda d: d.now_cost / 10)   # £m, human-readable\n",
    ")\n",
    "\n",
    "prices.to_csv(OUTDIR / \"player_prices_2025-26.csv\", index=False)\n",
    "print(prices.head())\n"
   ]
  },
  {
   "cell_type": "code",
   "execution_count": 7,
   "id": "47640782",
   "metadata": {},
   "outputs": [],
   "source": [
    "hist = get(f\"{BASE}/entry/{ENTRY_ID}/history/?season={SEASON}\")\n",
    "pd.DataFrame(hist[\"past\"]).to_csv(OUTDIR/\"history.csv\", index=False)\n",
    "pd.DataFrame(hist[\"current\"]).to_csv(OUTDIR/\"gw_summary.csv\", index=False)"
   ]
  }
 ],
 "metadata": {
  "kernelspec": {
   "display_name": "Python 3",
   "language": "python",
   "name": "python3"
  },
  "language_info": {
   "codemirror_mode": {
    "name": "ipython",
    "version": 3
   },
   "file_extension": ".py",
   "mimetype": "text/x-python",
   "name": "python",
   "nbconvert_exporter": "python",
   "pygments_lexer": "ipython3",
   "version": "3.12.3"
  }
 },
 "nbformat": 4,
 "nbformat_minor": 5
}
