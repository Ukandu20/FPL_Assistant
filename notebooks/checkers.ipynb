{
 "cells": [
  {
   "cell_type": "code",
   "execution_count": 17,
   "id": "a59fe495",
   "metadata": {},
   "outputs": [
    {
     "name": "stdout",
     "output_type": "stream",
     "text": [
      "raw is_home counts: is_home\n",
      "0    380\n",
      "1    380\n",
      "Name: count, dtype: int64\n"
     ]
    }
   ],
   "source": [
    "import pandas as pd, numpy as np, random\n",
    "import json\n",
    "from pathlib import Path\n",
    "\n",
    "raw = pd.read_csv(\"../data/processed/registry/fixtures/2025-2026/fixture_calendar.csv\")\n",
    "print(\"raw is_home counts:\", raw[\"is_home\"].value_counts(dropna=False))\n",
    "\n"
   ]
  },
  {
   "cell_type": "code",
   "execution_count": 18,
   "id": "ca5ae5ec",
   "metadata": {},
   "outputs": [],
   "source": [
    "# Home/away ID alignment must hold row-wise\n",
    "bad = raw[\n",
    "    ((raw[\"is_home\"]==1) & ((raw[\"home_id\"]!=raw[\"team_id\"]) | (raw[\"away_id\"]!=raw[\"opponent_id\"]))) |\n",
    "    ((raw[\"is_home\"]==0) & ((raw[\"home_id\"]!=raw[\"opponent_id\"]) | (raw[\"away_id\"]!=raw[\"team_id\"])))\n",
    "]\n",
    "assert bad.empty, \"home/away ID misalignment detected\"\n",
    "\n",
    "# Venue sanity: if is_home==1 then team_code should equal 'home' shortcode (when team_code known)\n",
    "chk = raw[raw[\"team\"].notna()]\n",
    "assert (chk.loc[chk[\"is_home\"]==1, \"team\"].str.upper()\n",
    "          .eq(chk.loc[chk[\"is_home\"]==1, \"home\"].str.upper())).all(), \"venue/code disagreement\"\n"
   ]
  },
  {
   "cell_type": "code",
   "execution_count": 19,
   "id": "06912a54",
   "metadata": {},
   "outputs": [
    {
     "name": "stdout",
     "output_type": "stream",
     "text": [
      "0 flag/id mismatches\n"
     ]
    },
    {
     "data": {
      "text/html": [
       "<div>\n",
       "<style scoped>\n",
       "    .dataframe tbody tr th:only-of-type {\n",
       "        vertical-align: middle;\n",
       "    }\n",
       "\n",
       "    .dataframe tbody tr th {\n",
       "        vertical-align: top;\n",
       "    }\n",
       "\n",
       "    .dataframe thead th {\n",
       "        text-align: right;\n",
       "    }\n",
       "</style>\n",
       "<table border=\"1\" class=\"dataframe\">\n",
       "  <thead>\n",
       "    <tr style=\"text-align: right;\">\n",
       "      <th></th>\n",
       "      <th>n_home_id</th>\n",
       "      <th>n_away_id</th>\n",
       "    </tr>\n",
       "    <tr>\n",
       "      <th>fpl_id</th>\n",
       "      <th></th>\n",
       "      <th></th>\n",
       "    </tr>\n",
       "  </thead>\n",
       "  <tbody>\n",
       "  </tbody>\n",
       "</table>\n",
       "</div>"
      ],
      "text/plain": [
       "Empty DataFrame\n",
       "Columns: [n_home_id, n_away_id]\n",
       "Index: []"
      ]
     },
     "execution_count": 19,
     "metadata": {},
     "output_type": "execute_result"
    }
   ],
   "source": [
    "cal = pd.read_csv(\"../data/processed/registry/fixtures/2025-2026/fixture_calendar.csv\")\n",
    "\n",
    "# 1) For each fpl_id, do you really have exactly one home row and one away row by flags?\n",
    "cal.groupby(\"fpl_id\")[\"is_home\"].agg([\"count\",\"sum\"]).query(\"count!=2 or (sum!=1 and sum.notna())\").head(10)\n",
    "\n",
    "# 2) Are side-ids consistent with flags?\n",
    "bad = cal[((cal[\"is_home\"]==1) & (cal[\"team_id\"].str.lower()!=cal[\"home_id\"].str.lower()))|\n",
    "          ((cal[\"is_home\"]==0) & (cal[\"team_id\"].str.lower()!=cal[\"away_id\"].str.lower()))]\n",
    "print(len(bad), \"flag/id mismatches\")\n",
    "bad[[\"fpl_id\",\"team\",\"is_home\",\"team_id\",\"home_id\",\"away_id\",\"gw_orig\"]].head(10)\n",
    "\n",
    "# 3) Does any (season,fpl_id) appear with multiple distinct home_id/away_id pairs?\n",
    "pairs = (cal.groupby(\"fpl_id\")[[\"home_id\",\"away_id\"]]\n",
    "           .nunique().rename(columns={\"home_id\":\"n_home_id\",\"away_id\":\"n_away_id\"}))\n",
    "pairs.query(\"n_home_id>1 or n_away_id>1\").head(10)"
   ]
  }
 ],
 "metadata": {
  "kernelspec": {
   "display_name": "Python 3",
   "language": "python",
   "name": "python3"
  },
  "language_info": {
   "codemirror_mode": {
    "name": "ipython",
    "version": 3
   },
   "file_extension": ".py",
   "mimetype": "text/x-python",
   "name": "python",
   "nbconvert_exporter": "python",
   "pygments_lexer": "ipython3",
   "version": "3.12.3"
  }
 },
 "nbformat": 4,
 "nbformat_minor": 5
}
