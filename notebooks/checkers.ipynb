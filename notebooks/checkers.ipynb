{
 "cells": [
  {
   "cell_type": "code",
   "execution_count": 12,
   "id": "a59fe495",
   "metadata": {},
   "outputs": [
    {
     "name": "stdout",
     "output_type": "stream",
     "text": [
      "raw is_home counts: is_home\n",
      "0    380\n",
      "1    380\n",
      "Name: count, dtype: int64\n"
     ]
    }
   ],
   "source": [
    "import pandas as pd, numpy as np, random\n",
    "import json\n",
    "from pathlib import Path\n",
    "\n",
    "raw = pd.read_csv(\"../data/processed/registry/fixtures/2025-2026/fixture_calendar.csv\")\n",
    "print(\"raw is_home counts:\", raw[\"is_home\"].value_counts(dropna=False))\n",
    "\n"
   ]
  },
  {
   "cell_type": "code",
   "execution_count": 13,
   "id": "27a3c50a",
   "metadata": {},
   "outputs": [
    {
     "name": "stdout",
     "output_type": "stream",
     "text": [
      "       team_id  lambda_goals_for  lambda_goals_against\n",
      "0     03a0d347          3.173313              0.523628\n",
      "5342  bcc4ae28          2.657872              2.089471\n",
      "5741  ddbd77d6          2.102435              1.598836\n",
      "760   1dd1f33c          1.598836              2.102435\n",
      "3220  7fb5d771          1.275643              2.380847\n",
      "4100  b11c2f05          1.015152              1.324822\n",
      "360   1464d629          0.000000              0.731830\n",
      "2080  259f237e          0.000000              0.404839\n",
      "3638  8331d109          0.000000              1.188257\n"
     ]
    }
   ],
   "source": [
    "import pandas as pd\n",
    "df = pd.read_parquet(\"../data/decisions/candidates/A0/hold/gw6.parquet\")\n",
    "print(df[[\"team_id\",\"lambda_goals_for\",\"lambda_goals_against\"]].drop_duplicates().sort_values(\"lambda_goals_for\", ascending=False).head(50))\n"
   ]
  },
  {
   "cell_type": "code",
   "execution_count": 14,
   "id": "1cf5b3a4",
   "metadata": {},
   "outputs": [
    {
     "name": "stdout",
     "output_type": "stream",
     "text": [
      "unique teams: 9\n",
      "sum λ_for across your teams: 11.823250999804827\n",
      "       team_id  lambda_goals_for  lambda_goals_against\n",
      "0     03a0d347          3.173313              0.523628\n",
      "5342  bcc4ae28          2.657872              2.089471\n",
      "5741  ddbd77d6          2.102435              1.598836\n",
      "760   1dd1f33c          1.598836              2.102435\n",
      "3220  7fb5d771          1.275643              2.380847\n",
      "4100  b11c2f05          1.015152              1.324822\n",
      "360   1464d629          0.000000              0.731830\n",
      "2080  259f237e          0.000000              0.404839\n",
      "3638  8331d109          0.000000              1.188257\n"
     ]
    }
   ],
   "source": [
    "print(\"unique teams:\", df['team_id'].nunique())\n",
    "lam_sum = df.groupby('team_id')['lambda_goals_for'].first().sum()\n",
    "print(\"sum λ_for across your teams:\", lam_sum)\n",
    "print(df[['team_id','lambda_goals_for','lambda_goals_against']].drop_duplicates('team_id').sort_values('lambda_goals_for', ascending=False).head(10))"
   ]
  },
  {
   "cell_type": "code",
   "execution_count": 15,
   "id": "de2568b2",
   "metadata": {},
   "outputs": [
    {
     "name": "stdout",
     "output_type": "stream",
     "text": [
      "count    6.181000e+03\n",
      "mean     3.713360e+01\n",
      "std      3.241707e+01\n",
      "min      9.925252e-15\n",
      "25%      1.698868e-14\n",
      "50%      2.911730e+01\n",
      "75%      7.399234e+01\n",
      "max      8.370901e+01\n",
      "Name: pred_minutes, dtype: float64\n",
      "count    6181.000000\n",
      "mean        0.521780\n",
      "std         0.262442\n",
      "min         0.055556\n",
      "25%         0.282353\n",
      "50%         0.660870\n",
      "75%         0.761194\n",
      "max         0.921978\n",
      "Name: p60, dtype: float64\n"
     ]
    }
   ],
   "source": [
    "print(df['pred_minutes'].describe())\n",
    "print(df['p60'].describe())\n"
   ]
  },
  {
   "cell_type": "code",
   "execution_count": 16,
   "id": "f0247905",
   "metadata": {},
   "outputs": [
    {
     "name": "stdout",
     "output_type": "stream",
     "text": [
      "count    7.940000e+02\n",
      "mean     3.632303e-16\n",
      "std      5.134540e-17\n",
      "min      3.096709e-16\n",
      "25%      3.096709e-16\n",
      "50%      4.123912e-16\n",
      "75%      4.123912e-16\n",
      "max      4.123912e-16\n",
      "Name: pred_saves_mean, dtype: float64\n"
     ]
    }
   ],
   "source": [
    "print(df.loc[df['pos']==\"GK\", 'pred_saves_mean'].describe())\n"
   ]
  }
 ],
 "metadata": {
  "kernelspec": {
   "display_name": "Python 3",
   "language": "python",
   "name": "python3"
  },
  "language_info": {
   "codemirror_mode": {
    "name": "ipython",
    "version": 3
   },
   "file_extension": ".py",
   "mimetype": "text/x-python",
   "name": "python",
   "nbconvert_exporter": "python",
   "pygments_lexer": "ipython3",
   "version": "3.12.3"
  }
 },
 "nbformat": 4,
 "nbformat_minor": 5
}
