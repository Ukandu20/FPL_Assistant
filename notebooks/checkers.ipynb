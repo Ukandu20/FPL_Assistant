{
 "cells": [
  {
   "cell_type": "code",
   "execution_count": 15,
   "id": "a59fe495",
   "metadata": {},
   "outputs": [
    {
     "name": "stdout",
     "output_type": "stream",
     "text": [
      "raw is_home counts: is_home\n",
      "0    380\n",
      "1    380\n",
      "Name: count, dtype: int64\n"
     ]
    }
   ],
   "source": [
    "import pandas as pd, numpy as np, random\n",
    "import json\n",
    "from pathlib import Path\n",
    "\n",
    "raw = pd.read_csv(\"../data/processed/registry/fixtures/2025-2026/fixture_calendar.csv\")\n",
    "print(\"raw is_home counts:\", raw[\"is_home\"].value_counts(dropna=False))\n",
    "\n"
   ]
  },
  {
   "cell_type": "code",
   "execution_count": 16,
   "id": "ca5ae5ec",
   "metadata": {},
   "outputs": [],
   "source": [
    "# Home/away ID alignment must hold row-wise\n",
    "bad = raw[\n",
    "    ((raw[\"is_home\"]==1) & ((raw[\"home_id\"]!=raw[\"team_id\"]) | (raw[\"away_id\"]!=raw[\"opponent_id\"]))) |\n",
    "    ((raw[\"is_home\"]==0) & ((raw[\"home_id\"]!=raw[\"opponent_id\"]) | (raw[\"away_id\"]!=raw[\"team_id\"])))\n",
    "]\n",
    "assert bad.empty, \"home/away ID misalignment detected\"\n",
    "\n",
    "# Venue sanity: if is_home==1 then team_code should equal 'home' shortcode (when team_code known)\n",
    "chk = raw[raw[\"team\"].notna()]\n",
    "assert (chk.loc[chk[\"is_home\"]==1, \"team\"].str.upper()\n",
    "          .eq(chk.loc[chk[\"is_home\"]==1, \"home\"].str.upper())).all(), \"venue/code disagreement\"\n"
   ]
  }
 ],
 "metadata": {
  "kernelspec": {
   "display_name": "Python 3",
   "language": "python",
   "name": "python3"
  },
  "language_info": {
   "codemirror_mode": {
    "name": "ipython",
    "version": 3
   },
   "file_extension": ".py",
   "mimetype": "text/x-python",
   "name": "python",
   "nbconvert_exporter": "python",
   "pygments_lexer": "ipython3",
   "version": "3.12.3"
  }
 },
 "nbformat": 4,
 "nbformat_minor": 5
}
